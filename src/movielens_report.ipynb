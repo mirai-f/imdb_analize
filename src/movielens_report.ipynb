{
 "cells": [
  {
   "cell_type": "code",
   "execution_count": 1,
   "metadata": {},
   "outputs": [
    {
     "name": "stderr",
     "output_type": "stream",
     "text": [
      "/Users/user/Documents/program/21_shcool/imdb_analize/venv/lib/python3.9/site-packages/urllib3/__init__.py:35: NotOpenSSLWarning: urllib3 v2 only supports OpenSSL 1.1.1+, currently the 'ssl' module is compiled with 'LibreSSL 2.8.3'. See: https://github.com/urllib3/urllib3/issues/3020\n",
      "  warnings.warn(\n"
     ]
    }
   ],
   "source": [
    "import movielens_analysis as ml\n",
    "\n",
    "# Загрузка данных\n",
    "movies = ml.Movies(\"../datasets/movies.csv\")\n",
    "ratings = ml.Ratings(\"../datasets/ratings.csv\")\n",
    "tags = ml.Tags(\"../datasets/tags.csv\")\n",
    "links = ml.Links(\"../datasets/links.csv\", \"../datasets/movies.csv\")\n",
    "\n",
    "# Вспомогательная фунция \n",
    "printd = ml.Tools().printd\n",
    "printl = ml.Tools().printl"
   ]
  },
  {
   "cell_type": "markdown",
   "metadata": {},
   "source": [
    "# Анализ фильмов"
   ]
  },
  {
   "cell_type": "code",
   "execution_count": 2,
   "metadata": {},
   "outputs": [
    {
     "name": "stdout",
     "output_type": "stream",
     "text": [
      "Кол-во фильмов в разные года\n",
      "2002: 311\n",
      "2006: 295\n",
      "2001: 294\n",
      "2007: 284\n",
      "2000: 283\n",
      "2009: 282\n",
      "2003: 279\n",
      "2004: 279\n",
      "2014: 278\n",
      "1996: 276\n",
      "2015: 274\n",
      "2005: 273\n",
      "2008: 269\n",
      "1999: 263\n",
      "1997: 260\n"
     ]
    }
   ],
   "source": [
    "release_years = movies.dist_by_release()\n",
    "print(\"Кол-во фильмов в разные года\")\n",
    "printd(release_years, n=15)"
   ]
  },
  {
   "cell_type": "code",
   "execution_count": 3,
   "metadata": {},
   "outputs": [
    {
     "name": "stdout",
     "output_type": "stream",
     "text": [
      "Кол-во фильмов с конкретным жанром\n",
      "Drama: 4361\n",
      "Comedy: 3756\n",
      "Thriller: 1894\n",
      "Action: 1828\n",
      "Romance: 1596\n"
     ]
    }
   ],
   "source": [
    "genres_distribution = movies.dist_by_genres()\n",
    "print(\"Кол-во фильмов с конкретным жанром\")\n",
    "printd(genres_distribution)"
   ]
  },
  {
   "cell_type": "code",
   "execution_count": 4,
   "metadata": {},
   "outputs": [
    {
     "name": "stdout",
     "output_type": "stream",
     "text": [
      "Кол-во жанров у рызных фильмов\n",
      "Rubber (2010): 10\n",
      "Patlabor: The Movie (Kidô keisatsu patorebâ: The Movie) (1989): 8\n",
      "Mulan (1998): 7\n",
      "Who Framed Roger Rabbit? (1988): 7\n",
      "Osmosis Jones (2001): 7\n"
     ]
    }
   ],
   "source": [
    "top_genres_movies = movies.most_genres(5)\n",
    "print(\"Кол-во жанров у рызных фильмов\")\n",
    "printd(top_genres_movies)"
   ]
  },
  {
   "cell_type": "markdown",
   "metadata": {},
   "source": [
    "# Анализ рейтингов"
   ]
  },
  {
   "cell_type": "code",
   "execution_count": 5,
   "metadata": {},
   "outputs": [
    {
     "name": "stdout",
     "output_type": "stream",
     "text": [
      "Кол-во фильмов по годам, полеченную через таблицу retings\n",
      "1996: 6040\n",
      "1997: 1916\n",
      "1998: 507\n",
      "1999: 2439\n",
      "2000: 10061\n"
     ]
    }
   ],
   "source": [
    "ratings_by_year = ratings.Movies(ratings).dist_by_year()\n",
    "print(\"Кол-во фильмов по годам, полеченную через таблицу retings\")\n",
    "printd(ratings_by_year)"
   ]
  },
  {
   "cell_type": "code",
   "execution_count": 6,
   "metadata": {},
   "outputs": [
    {
     "name": "stdout",
     "output_type": "stream",
     "text": [
      "Распределение рейтингов по кол-ву оценок\n",
      "0.5: 1370\n",
      "1.0: 2811\n",
      "1.5: 1791\n",
      "2.0: 7551\n",
      "2.5: 5550\n"
     ]
    }
   ],
   "source": [
    "ratings_distribution = ratings.Movies(ratings).dist_by_rating()\n",
    "print(\"Распределение рейтингов по кол-ву оценок\")\n",
    "printd(ratings_distribution)"
   ]
  },
  {
   "cell_type": "code",
   "execution_count": 7,
   "metadata": {},
   "outputs": [
    {
     "name": "stdout",
     "output_type": "stream",
     "text": [
      "Топ фильмов по количеству оценок\n",
      "Forrest Gump (1994): 329\n",
      "\"Shawshank Redemption: 317\n",
      "Pulp Fiction (1994): 307\n",
      "\"Silence of the Lambs: 279\n",
      "\"Matrix: 278\n"
     ]
    }
   ],
   "source": [
    "top_rated_movies = ratings.Movies(ratings).top_by_num_of_ratings(5)\n",
    "print(\"Топ фильмов по количеству оценок\")\n",
    "printd(top_rated_movies)"
   ]
  },
  {
   "cell_type": "code",
   "execution_count": 8,
   "metadata": {},
   "outputs": [
    {
     "name": "stdout",
     "output_type": "stream",
     "text": [
      "Топ фильмов по средней оценке\n",
      "The Jinx: The Life and Deaths of Robert Durst (2015): 5.0\n",
      "Galaxy of Terror (Quest) (1981): 5.0\n",
      "Alien Contamination (1980): 5.0\n",
      "I'm the One That I Want (2000): 5.0\n",
      "Lesson Faust (1994): 5.0\n",
      "\"Assignment: 5.0\n",
      "Mephisto (1981): 5.0\n",
      "Black Mirror: 5.0\n",
      "Dylan Moran: Monster (2004): 5.0\n",
      "Bill Hicks: Revelations (1993): 5.0\n",
      "My Sassy Girl (Yeopgijeogin geunyeo) (2001): 5.0\n",
      "Strictly Sexual (2008): 5.0\n",
      "\"Story of Women (Affaire de femmes: 5.0\n",
      "\"Passenger: 5.0\n",
      "\"Marriage of Maria Braun: 5.0\n",
      "Lamerica (1994): 5.0\n",
      "Entertaining Angels: The Dorothy Day Story (1996): 5.0\n",
      "Siam Sunset (1999): 5.0\n",
      "Little Murders (1971): 5.0\n",
      "Tales of Manhattan (1942): 5.0\n",
      "\"Calcium Kid: 5.0\n",
      "Go for Zucker! (Alles auf Zucker!) (2004): 5.0\n",
      "\"Chump at Oxford: 5.0\n",
      "\"Ugly Duckling and Me!: 5.0\n",
      "\"Breed: 5.0\n"
     ]
    }
   ],
   "source": [
    "top_avg_rated_movies = ratings.Movies(ratings).top_by_ratings(25, metric=\"average\")\n",
    "print(\"Топ фильмов по средней оценке\")\n",
    "printd(top_avg_rated_movies, n=25)"
   ]
  },
  {
   "cell_type": "code",
   "execution_count": 9,
   "metadata": {},
   "outputs": [
    {
     "name": "stdout",
     "output_type": "stream",
     "text": [
      "Топ фильмов по медианной оценке\n",
      "The Jinx: The Life and Deaths of Robert Durst (2015): 5.0\n",
      "Galaxy of Terror (Quest) (1981): 5.0\n",
      "Alien Contamination (1980): 5.0\n",
      "Troll 2 (1990): 5.0\n",
      "I'm the One That I Want (2000): 5.0\n"
     ]
    }
   ],
   "source": [
    "top_median_rated_movies = ratings.Movies(ratings).top_by_ratings(5, metric=\"median\")\n",
    "print(\"Топ фильмов по медианной оценке\")\n",
    "printd(top_median_rated_movies)"
   ]
  },
  {
   "cell_type": "code",
   "execution_count": 10,
   "metadata": {},
   "outputs": [
    {
     "name": "stdout",
     "output_type": "stream",
     "text": [
      "Топ спорных фильмов\n",
      "Ivan's Childhood (a.k.a. My Name is Ivan) (Ivanovo detstvo) (1962): 5.06 дисперсия\n",
      "Fanny and Alexander (Fanny och Alexander) (1982): 5.06 дисперсия\n",
      "Troll 2 (1990): 4.5 дисперсия\n",
      "Lassie (1994): 4.0 дисперсия\n",
      "\"Zed & Two Noughts: 4.0 дисперсия\n"
     ]
    }
   ],
   "source": [
    "\n",
    "top_controversial_movies = ratings.Movies(ratings).top_controversial(5)\n",
    "print(\"Топ спорных фильмов\")\n",
    "printd(top_controversial_movies, title=\" дисперсия\")"
   ]
  },
  {
   "cell_type": "code",
   "execution_count": 11,
   "metadata": {},
   "outputs": [
    {
     "name": "stdout",
     "output_type": "stream",
     "text": [
      "Распределение пользователей по количеству отзывов\n",
      "пользователь 1: 232\n",
      "пользователь 2: 29\n",
      "пользователь 3: 39\n",
      "пользователь 4: 216\n",
      "пользователь 5: 44\n"
     ]
    }
   ],
   "source": [
    "dist_by_num_of_ratings_users = ratings.Users(ratings).dist_by_num_of_ratings()\n",
    "print(\"Распределение пользователей по количеству отзывов\")\n",
    "printd(dist_by_num_of_ratings_users, title0=\"пользователь \")"
   ]
  },
  {
   "cell_type": "code",
   "execution_count": 12,
   "metadata": {},
   "outputs": [
    {
     "name": "stdout",
     "output_type": "stream",
     "text": [
      "Распределение пользователей по медианной оценке\n",
      "пользователь 1: 5.0\n",
      "пользователь 2: 4.0\n",
      "пользователь 3: 0.5\n",
      "пользователь 4: 4.0\n",
      "пользователь 5: 4.0\n"
     ]
    }
   ],
   "source": [
    "\n",
    "dist_by_avg_or_median_rating_users = ratings.Users(ratings).dist_by_avg_or_median_rating(metric=\"median\")\n",
    "print(\"Распределение пользователей по медианной оценке\")\n",
    "printd(dist_by_avg_or_median_rating_users, title0=\"пользователь \")"
   ]
  },
  {
   "cell_type": "code",
   "execution_count": 13,
   "metadata": {},
   "outputs": [
    {
     "name": "stdout",
     "output_type": "stream",
     "text": [
      "Распределение пользователей по средней оценке\n",
      "пользователь 1: 4.37\n",
      "пользователь 2: 3.95\n",
      "пользователь 3: 2.44\n",
      "пользователь 4: 3.56\n",
      "пользователь 5: 3.64\n"
     ]
    }
   ],
   "source": [
    "dist_by_avg_or_median_rating_users = ratings.Users(ratings).dist_by_avg_or_median_rating(metric=\"average\")\n",
    "print(\"Распределение пользователей по средней оценке\")\n",
    "printd(dist_by_avg_or_median_rating_users, title0=\"пользователь \")"
   ]
  },
  {
   "cell_type": "code",
   "execution_count": 14,
   "metadata": {},
   "outputs": [
    {
     "name": "stdout",
     "output_type": "stream",
     "text": [
      "Топ пользователей с большой дисперсией оценок\n",
      "пользователь 3: 4.26 дисперсия\n",
      "пользователь 461: 3.1 дисперсия\n",
      "пользователь 55: 3.09 дисперсия\n",
      "пользователь 259: 2.94 дисперсия\n",
      "пользователь 329: 2.92 дисперсия\n"
     ]
    }
   ],
   "source": [
    "top_by_variance_users = ratings.Users(ratings).top_by_variance(5)\n",
    "print(\"Топ пользователей с большой дисперсией оценок\")\n",
    "printd(top_by_variance_users, title0=\"пользователь \", title=\" дисперсия\") "
   ]
  },
  {
   "cell_type": "markdown",
   "metadata": {},
   "source": [
    "# Анализ тегов"
   ]
  },
  {
   "cell_type": "code",
   "execution_count": 15,
   "metadata": {},
   "outputs": [
    {
     "name": "stdout",
     "output_type": "stream",
     "text": [
      "Топ тегов по количеству слов\n",
      "Something for everyone in this one... saw it without and plan on seeing it with kids!: 16\n",
      "the catholic church is the most corrupt organization in history: 10\n",
      "villain nonexistent or not needed for good story: 8\n",
      "06 Oscar Nominated Best Movie - Animation: 7\n",
      "It was melodramatic and kind of dumb: 7\n"
     ]
    }
   ],
   "source": [
    "top_tags_by_words = tags.most_words(5)\n",
    "print(\"Топ тегов по количеству слов\")\n",
    "printd(top_tags_by_words)"
   ]
  },
  {
   "cell_type": "code",
   "execution_count": 16,
   "metadata": {},
   "outputs": [
    {
     "name": "stdout",
     "output_type": "stream",
     "text": [
      "Самые длинные теги\n",
      "Something for everyone in this one... saw it without and plan on seeing it with kids!\n",
      "the catholic church is the most corrupt organization in history\n",
      "villain nonexistent or not needed for good story\n",
      "r:disturbing violent content including rape\n",
      "06 Oscar Nominated Best Movie - Animation\n"
     ]
    }
   ],
   "source": [
    "longest_tags = tags.longest(5)\n",
    "print(\"Самые длинные теги\")\n",
    "printl(longest_tags)"
   ]
  },
  {
   "cell_type": "code",
   "execution_count": 17,
   "metadata": {},
   "outputs": [
    {
     "name": "stdout",
     "output_type": "stream",
     "text": [
      "Самые популярные теги\n",
      "In Netflix queue: 131\n",
      "atmospheric: 36\n",
      "superhero: 24\n",
      "thought-provoking: 24\n",
      "funny: 23\n"
     ]
    }
   ],
   "source": [
    "most_popular_tags = tags.most_popular(5)\n",
    "print(\"Самые популярные теги\")\n",
    "printd(most_popular_tags)"
   ]
  },
  {
   "cell_type": "code",
   "execution_count": 18,
   "metadata": {},
   "outputs": [
    {
     "name": "stdout",
     "output_type": "stream",
     "text": [
      "Теги, содержащие слово 'movie'\n",
      "Animal movie\n",
      "Great movie\n",
      "Teen movie\n",
      "animal movie\n",
      "classic movie\n",
      "fun family movie\n",
      "movie business\n",
      "movies\n",
      "movies about movies\n"
     ]
    }
   ],
   "source": [
    "tags_with_word = tags.tags_with(\"movie\")\n",
    "print(\"Теги, содержащие слово 'movie'\")\n",
    "printl(tags_with_word, n=20)"
   ]
  },
  {
   "cell_type": "markdown",
   "metadata": {},
   "source": [
    "# Анализ ссылок"
   ]
  },
  {
   "cell_type": "code",
   "execution_count": 19,
   "metadata": {},
   "outputs": [
    {
     "name": "stdout",
     "output_type": "stream",
     "text": [
      "Данные загружены из файла ../datasets/imdb_info.json\n",
      "movieId,Director,Budget,Cumulative Worldwide Gross,Runtime\n",
      "[193609, 'Jay Dubin', '-', '637327', 88]\n",
      "[193587, 'Takuya Igarashi', '-', '2373203', 92]\n",
      "[193585, 'Bruce Beresford', '-', '-', 86]\n",
      "[193583, 'Atsuko Ishizuka', '-', '6356284', 110]\n",
      "[193581, 'Noriyuki Abe, Stephen Hoff', '-', '511132', 101]\n",
      "[5, 'Charles Shyer', '30000000', '76594107', 106]\n",
      "[4, 'Forest Whitaker', '16000000', '81452156', 124]\n",
      "[3, 'Howard Deutch', '25000000', '71518503', 101]\n",
      "[2, 'Joe Johnston', '65000000', '262821940', 104]\n",
      "[1, 'John Lasseter', '30000000', '394436586', 81]\n"
     ]
    }
   ],
   "source": [
    "# Загрузка данных\n",
    "# imdb_info = links.get_imdb(default_movie_limit=9742);\n",
    "imdb_info = links.load_from_json(\"../datasets/imdb_info.json\")\n",
    "\n",
    "links.print_imdb_info(imdb_info)"
   ]
  },
  {
   "cell_type": "code",
   "execution_count": 20,
   "metadata": {},
   "outputs": [
    {
     "name": "stdout",
     "output_type": "stream",
     "text": [
      "Топ режиссеров\n",
      "Woody Allen: 48\n",
      "Alfred Hitchcock: 37\n",
      "Steven Spielberg: 32\n",
      "Clint Eastwood: 32\n",
      "Martin Scorsese: 30\n",
      "Ron Howard: 24\n",
      "Steven Soderbergh: 24\n",
      "Ridley Scott: 24\n",
      "Spike Lee: 21\n",
      "Barry Levinson: 21\n"
     ]
    }
   ],
   "source": [
    "top_directors = links.top_directors(10, imdb_info=imdb_info)\n",
    "print(\"Топ режиссеров\")\n",
    "printd(top_directors, n=10)"
   ]
  },
  {
   "cell_type": "code",
   "execution_count": 21,
   "metadata": {},
   "outputs": [
    {
     "name": "stdout",
     "output_type": "stream",
     "text": [
      "Самые дорогие фильмы\n",
      "Avengers: Infinity War - Part I (2018): 321000000 $\n",
      "Star Wars: The Last Jedi (2017): 317000000 $\n",
      "Justice League (2017): 300000000 $\n",
      "Pirates of the Caribbean: At World's End (2007): 300000000 $\n",
      "Solo: A Star Wars Story (2018): 275000000 $\n"
     ]
    }
   ],
   "source": [
    "most_expensive_movies = links.most_expensive(5, imdb_info=imdb_info)\n",
    "print(\"Самые дорогие фильмы\")\n",
    "printd(most_expensive_movies, title=\" $\")"
   ]
  },
  {
   "cell_type": "code",
   "execution_count": 22,
   "metadata": {},
   "outputs": [
    {
     "name": "stdout",
     "output_type": "stream",
     "text": [
      "Самые прибыльные фильмы\n",
      "Avatar (2009): 2686710708 $\n",
      "Titanic (1997): 2064812968 $\n",
      "Star Wars: Episode VII - The Force Awakens (2015): 1826310218 $\n",
      "Avengers: Infinity War - Part I (2018): 1731415039 $\n",
      "Jurassic World (2015): 1521537444 $\n"
     ]
    }
   ],
   "source": [
    "most_profitable_movies = links.most_profitable(5, imdb_info=imdb_info)\n",
    "print(\"Самые прибыльные фильмы\")\n",
    "printd(most_profitable_movies, title=\" $\")"
   ]
  },
  {
   "cell_type": "code",
   "execution_count": 23,
   "metadata": {},
   "outputs": [
    {
     "name": "stdout",
     "output_type": "stream",
     "text": [
      "Самые длинные фильмы\n",
      "The Godfather Trilogy: 1972-1990 (1992): 583 минут(а/ы)\n",
      "Tie Xi Qu: West of the Tracks (Tiexi qu) (2003): 551 минут(а/ы)\n",
      "O.J.: Made in America (2016): 467 минут(а/ы)\n",
      "Best of Youth, The (La meglio gioventù) (2003): 374 минут(а/ы)\n",
      "1900 (Novecento) (1976): 317 минут(а/ы)\n"
     ]
    }
   ],
   "source": [
    "longest_movies = links.longest(5, imdb_info=imdb_info)\n",
    "print(\"Самые длинные фильмы\")\n",
    "printd(longest_movies, title=\" минут(а/ы)\")"
   ]
  },
  {
   "cell_type": "code",
   "execution_count": 24,
   "metadata": {},
   "outputs": [
    {
     "name": "stdout",
     "output_type": "stream",
     "text": [
      "Фильмы с наибольшей стоимостью за минуту\n",
      "T2 3-D: Battle Across Time (1996): 2857142.86 $\n",
      "Tangled (2010): 2600000.0 $\n",
      "Justice League (2017): 2500000.0 $\n",
      "Avengers: Infinity War - Part I (2018): 2154362.42 $\n",
      "The Good Dinosaur (2015): 2150537.63 $\n"
     ]
    }
   ],
   "source": [
    "top_cost_per_minute_movies = links.top_cost_per_minute(5, imdb_info=imdb_info)\n",
    "print(\"Фильмы с наибольшей стоимостью за минуту\")\n",
    "printd(top_cost_per_minute_movies, title=\" $\")"
   ]
  },
  {
   "cell_type": "markdown",
   "metadata": {},
   "source": [
    "# Заключение"
   ]
  },
  {
   "cell_type": "code",
   "execution_count": 25,
   "metadata": {},
   "outputs": [
    {
     "name": "stdout",
     "output_type": "stream",
     "text": [
      "Анализ данных завершен. Основные выводы:\n",
      "1. Самые популярные жанры:  ['Drama', 'Comedy', 'Thriller', 'Action', 'Romance']\n",
      "2. Самые прибыльные фильмы:  ['Avatar (2009)', 'Titanic (1997)', 'Star Wars: Episode VII - The Force Awakens (2015)', 'Avengers: Infinity War - Part I (2018)', 'Jurassic World (2015)']\n",
      "3. Топ режиссеров:  ['Woody Allen', 'Alfred Hitchcock', 'Steven Spielberg', 'Clint Eastwood', 'Martin Scorsese']\n"
     ]
    }
   ],
   "source": [
    "print(\"Анализ данных завершен. Основные выводы:\")\n",
    "print(\"1. Самые популярные жанры: \", list(genres_distribution.keys())[:5])\n",
    "print(\"2. Самые прибыльные фильмы: \", list(most_profitable_movies.keys())[:5])\n",
    "print(\"3. Топ режиссеров: \", list(top_directors.keys())[:5])"
   ]
  }
 ],
 "metadata": {
  "kernelspec": {
   "display_name": "venv",
   "language": "python",
   "name": "python3"
  },
  "language_info": {
   "codemirror_mode": {
    "name": "ipython",
    "version": 3
   },
   "file_extension": ".py",
   "mimetype": "text/x-python",
   "name": "python",
   "nbconvert_exporter": "python",
   "pygments_lexer": "ipython3",
   "version": "3.9.6"
  }
 },
 "nbformat": 4,
 "nbformat_minor": 2
}
